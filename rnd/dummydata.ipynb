{
 "cells": [
  {
   "cell_type": "code",
   "execution_count": 4,
   "metadata": {},
   "outputs": [
    {
     "name": "stdout",
     "output_type": "stream",
     "text": [
      "     Building Type  Square Footage  Number of Occupants  Appliances Used  \\\n",
      "0       Industrial           26390                   96                5   \n",
      "1      Residential           25369                   13               38   \n",
      "2       Industrial           17881                   84               46   \n",
      "3       Industrial           14587                   43                4   \n",
      "4      Residential           33264                   37               28   \n",
      "...            ...             ...                  ...              ...   \n",
      "9995    Industrial           42832                   32                2   \n",
      "9996   Residential           34476                   32               29   \n",
      "9997    Commercial           14445                   90               36   \n",
      "9998    Commercial           38490                   78                7   \n",
      "9999    Industrial           34767                   90               16   \n",
      "\n",
      "      Average Temperature Day of Week  Energy Consumption  \n",
      "0                   21.63     Weekday             6691.10  \n",
      "1                   29.76     Weekday             6140.03  \n",
      "2                   27.60     Weekday             5990.69  \n",
      "3                   14.85     Weekend             6181.95  \n",
      "4                   22.76     Weekday             1480.30  \n",
      "...                   ...         ...                 ...  \n",
      "9995                22.71     Weekend             4329.17  \n",
      "9996                10.07     Weekday             5094.82  \n",
      "9997                15.47     Weekday             2735.81  \n",
      "9998                33.06     Weekday             1323.49  \n",
      "9999                10.43     Weekday             2506.39  \n",
      "\n",
      "[10000 rows x 7 columns]\n",
      "Data saved to /home/dikidwidasa/mlflow/data/dummy_data.csv\n"
     ]
    }
   ],
   "source": [
    "import numpy as np\n",
    "import pandas as pd\n",
    "import os\n",
    "\n",
    "# Set random seed for reproducibility\n",
    "np.random.seed(42)\n",
    "\n",
    "# Define parameters for the data\n",
    "num_entries = 10000\n",
    "building_types = ['Residential', 'Commercial', 'Industrial']\n",
    "days_of_week = ['Weekday', 'Weekend']\n",
    "\n",
    "# Generate random data\n",
    "data = {\n",
    "    'Building Type': np.random.choice(building_types, num_entries),\n",
    "    'Square Footage': np.random.randint(5000, 60000, num_entries),\n",
    "    'Number of Occupants': np.random.randint(1, 100, num_entries),\n",
    "    'Appliances Used': np.random.randint(1, 50, num_entries),\n",
    "    'Average Temperature': np.round(np.random.uniform(10, 35, num_entries), 2),\n",
    "    'Day of Week': np.random.choice(days_of_week, num_entries),\n",
    "    'Energy Consumption': np.round(np.random.uniform(1000, 7000, num_entries), 2)\n",
    "}\n",
    "\n",
    "# Create DataFrame\n",
    "dummy_data = pd.DataFrame(data)\n",
    "\n",
    "# Create directory if it doesn't exist\n",
    "os.makedirs('data', exist_ok=True)\n",
    "\n",
    "# Save DataFrame to CSV\n",
    "file_path = '/home/dikidwidasa/mlflow/data/dummy_data.csv'\n",
    "dummy_data.to_csv(file_path, index=False)\n",
    "\n",
    "# Display the generated dummy data\n",
    "print(dummy_data)\n",
    "print(f\"Data saved to {file_path}\")"
   ]
  },
  {
   "cell_type": "code",
   "execution_count": null,
   "metadata": {},
   "outputs": [],
   "source": []
  }
 ],
 "metadata": {
  "kernelspec": {
   "display_name": "myenv",
   "language": "python",
   "name": "python3"
  },
  "language_info": {
   "codemirror_mode": {
    "name": "ipython",
    "version": 3
   },
   "file_extension": ".py",
   "mimetype": "text/x-python",
   "name": "python",
   "nbconvert_exporter": "python",
   "pygments_lexer": "ipython3",
   "version": "3.10.12"
  }
 },
 "nbformat": 4,
 "nbformat_minor": 2
}
