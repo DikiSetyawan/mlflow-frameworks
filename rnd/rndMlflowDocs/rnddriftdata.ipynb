{
 "cells": [
  {
   "cell_type": "code",
   "execution_count": 75,
   "metadata": {},
   "outputs": [
    {
     "data": {
      "text/plain": [
       "26135.0"
      ]
     },
     "execution_count": 75,
     "metadata": {},
     "output_type": "execute_result"
    }
   ],
   "source": [
    "import pandas as pd \n",
    "\n",
    "df = pd.read_csv(\"/home/dikidwidasa/mlflow/data/customer.csv\")\n",
    "df = df[df['trans_count'] >0]\n",
    "df = df.drop(['cus_id'], axis=1)    \n",
    "len(df)/2\n"
   ]
  },
  {
   "cell_type": "code",
   "execution_count": 80,
   "metadata": {},
   "outputs": [],
   "source": [
    "bin_labels = [f\"{i+1}\" for i in range(5)]\n",
    "df['avg_bal_bins'] = pd.cut(df['avg_bal'], bins=5, labels=bin_labels)\n",
    "df['trans_count_bin'] = pd.cut(df['trans_count'], bins=5, labels=bin_labels)\n",
    "\n",
    "df1 = df.iloc[:26135]\n",
    "df2 = df.iloc[26135:]\n",
    "df1.to_csv(\"/home/dikidwidasa/mlflow/data/customer1.csv\")\n",
    "df2.to_csv(\"/home/dikidwidasa/mlflow/data/customer2.csv\")\n",
    "\n",
    "\n",
    "\n",
    "\n"
   ]
  },
  {
   "cell_type": "code",
   "execution_count": 85,
   "metadata": {},
   "outputs": [
    {
     "name": "stdout",
     "output_type": "stream",
     "text": [
      "df1_counts: avg_bal_bins\n",
      "1        4\n",
      "2    26128\n",
      "3        2\n",
      "4        0\n",
      "5        1\n",
      "Name: count, dtype: int64\n",
      " df2_counts: avg_bal_bins\n",
      "1        2\n",
      "2    26132\n",
      "3        1\n",
      "4        0\n",
      "5        0\n",
      "Name: count, dtype: int64\n",
      "Chi-Square Statistic: 2.0003037170599574\n",
      "P-value: 0.7357030167119538\n",
      "No significant drift detected.\n"
     ]
    }
   ],
   "source": [
    "from scipy.stats import chi2_contingency\n",
    "import pandas as pd\n",
    "\n",
    "# Example bin counts\n",
    "df1_counts = df1['avg_bal_bins'].value_counts().sort_index()\n",
    "df2_counts = df2['avg_bal_bins'].value_counts().sort_index()\n",
    "print(\n",
    "    f\"df1_counts: {df1_counts}\\n\",\n",
    "    f\"df2_counts: {df2_counts}\"\n",
    ")\n",
    "\n",
    "# Combine counts to ensure all bins are represented\n",
    "all_bins = set(df1_counts.index).union(df2_counts.index)\n",
    "df1_counts = df1_counts.reindex(all_bins, fill_value=0)\n",
    "df2_counts = df2_counts.reindex(all_bins, fill_value=0)\n",
    "\n",
    "# Add a small constant to avoid zeros (Laplace smoothing)\n",
    "epsilon = 1e-6\n",
    "df1_counts += epsilon\n",
    "df2_counts += epsilon\n",
    "\n",
    "# Create contingency table\n",
    "cont_table = pd.DataFrame({'reff': df1_counts, 'test': df2_counts})\n",
    "\n",
    "# Perform Chi-Square Test\n",
    "chi2, pvalue, _, _ = chi2_contingency(cont_table.T)\n",
    "print(\"Chi-Square Statistic:\", chi2)\n",
    "print(\"P-value:\", pvalue)\n",
    "\n",
    "if pvalue < 0.05:\n",
    "    print(\"Significant drift detected!\")\n",
    "else:\n",
    "    print(\"No significant drift detected.\")\n"
   ]
  },
  {
   "cell_type": "code",
   "execution_count": 87,
   "metadata": {},
   "outputs": [],
   "source": [
    "import whylogs as why\n",
    "target = why.log(df2).profile().view()\n",
    "ref = why.log(df1).profile().view()"
   ]
  },
  {
   "cell_type": "code",
   "execution_count": 88,
   "metadata": {},
   "outputs": [
    {
     "data": {
      "text/plain": [
       "{'gender': {'algorithm': 'chi-square',\n",
       "  'pvalue': np.float64(0.1352999880552461),\n",
       "  'statistic': 2.230614951458122,\n",
       "  'thresholds': {'NO_DRIFT': (0.15, 1),\n",
       "   'POSSIBLE_DRIFT': (0.05, 0.15),\n",
       "   'DRIFT': (0, 0.05)},\n",
       "  'drift_category': 'POSSIBLE_DRIFT'},\n",
       " 'marital': {'algorithm': 'ks',\n",
       "  'pvalue': np.float64(1.0),\n",
       "  'statistic': 0.0012626745743256063,\n",
       "  'thresholds': {'NO_DRIFT': (0.15, 1),\n",
       "   'POSSIBLE_DRIFT': (0.05, 0.15),\n",
       "   'DRIFT': (0, 0.05)},\n",
       "  'drift_category': 'NO_DRIFT'},\n",
       " 'generation': {'algorithm': 'chi-square',\n",
       "  'pvalue': np.float64(0.0963816451235561),\n",
       "  'statistic': 4.678878997554513,\n",
       "  'thresholds': {'NO_DRIFT': (0.15, 1),\n",
       "   'POSSIBLE_DRIFT': (0.05, 0.15),\n",
       "   'DRIFT': (0, 0.05)},\n",
       "  'drift_category': 'POSSIBLE_DRIFT'},\n",
       " 'own_house': {'algorithm': 'chi-square',\n",
       "  'pvalue': np.float64(0.9283295745441676),\n",
       "  'statistic': 0.008090407878132871,\n",
       "  'thresholds': {'NO_DRIFT': (0.15, 1),\n",
       "   'POSSIBLE_DRIFT': (0.05, 0.15),\n",
       "   'DRIFT': (0, 0.05)},\n",
       "  'drift_category': 'NO_DRIFT'},\n",
       " 'education': {'algorithm': 'chi-square',\n",
       "  'pvalue': np.float64(0.15495652546827302),\n",
       "  'statistic': 5.241307400584118,\n",
       "  'thresholds': {'NO_DRIFT': (0.15, 1),\n",
       "   'POSSIBLE_DRIFT': (0.05, 0.15),\n",
       "   'DRIFT': (0, 0.05)},\n",
       "  'drift_category': 'NO_DRIFT'},\n",
       " 'job': {'algorithm': 'chi-square',\n",
       "  'pvalue': np.float64(0.8419273242406876),\n",
       "  'statistic': 0.03977185113851513,\n",
       "  'thresholds': {'NO_DRIFT': (0.15, 1),\n",
       "   'POSSIBLE_DRIFT': (0.05, 0.15),\n",
       "   'DRIFT': (0, 0.05)},\n",
       "  'drift_category': 'NO_DRIFT'},\n",
       " 'inactive': {'algorithm': 'chi-square',\n",
       "  'pvalue': np.float64(0.21463142401005725),\n",
       "  'statistic': 1.539908508427615,\n",
       "  'thresholds': {'NO_DRIFT': (0.15, 1),\n",
       "   'POSSIBLE_DRIFT': (0.05, 0.15),\n",
       "   'DRIFT': (0, 0.05)},\n",
       "  'drift_category': 'NO_DRIFT'},\n",
       " 'income': {'algorithm': 'ks',\n",
       "  'pvalue': np.float64(0.9998828158486022),\n",
       "  'statistic': 0.0029079778075378204,\n",
       "  'thresholds': {'NO_DRIFT': (0.15, 1),\n",
       "   'POSSIBLE_DRIFT': (0.05, 0.15),\n",
       "   'DRIFT': (0, 0.05)},\n",
       "  'drift_category': 'NO_DRIFT'},\n",
       " 'avg_bal': {'algorithm': 'ks',\n",
       "  'pvalue': np.float64(0.6134475836461665),\n",
       "  'statistic': 0.006619475798737326,\n",
       "  'thresholds': {'NO_DRIFT': (0.15, 1),\n",
       "   'POSSIBLE_DRIFT': (0.05, 0.15),\n",
       "   'DRIFT': (0, 0.05)},\n",
       "  'drift_category': 'NO_DRIFT'},\n",
       " 'trans_count': {'algorithm': 'ks',\n",
       "  'pvalue': np.float64(0.7163516848585886),\n",
       "  'statistic': 0.006083795676296133,\n",
       "  'thresholds': {'NO_DRIFT': (0.15, 1),\n",
       "   'POSSIBLE_DRIFT': (0.05, 0.15),\n",
       "   'DRIFT': (0, 0.05)},\n",
       "  'drift_category': 'NO_DRIFT'},\n",
       " 'credit_trans_amount': {'algorithm': 'ks',\n",
       "  'pvalue': np.float64(0.4652943388137455),\n",
       "  'statistic': 0.00742299598239915,\n",
       "  'thresholds': {'NO_DRIFT': (0.15, 1),\n",
       "   'POSSIBLE_DRIFT': (0.05, 0.15),\n",
       "   'DRIFT': (0, 0.05)},\n",
       "  'drift_category': 'NO_DRIFT'},\n",
       " 'recency_score': {'algorithm': 'ks',\n",
       "  'pvalue': np.float64(0.9782653323451209),\n",
       "  'statistic': 0.004132389515974749,\n",
       "  'thresholds': {'NO_DRIFT': (0.15, 1),\n",
       "   'POSSIBLE_DRIFT': (0.05, 0.15),\n",
       "   'DRIFT': (0, 0.05)},\n",
       "  'drift_category': 'NO_DRIFT'},\n",
       " 'avg_bal_bins': {'algorithm': 'chi-square',\n",
       "  'pvalue': np.float64(0.2864170868358146),\n",
       "  'statistic': 2.5006123698714022,\n",
       "  'thresholds': {'NO_DRIFT': (0.15, 1),\n",
       "   'POSSIBLE_DRIFT': (0.05, 0.15),\n",
       "   'DRIFT': (0, 0.05)},\n",
       "  'drift_category': 'NO_DRIFT'},\n",
       " 'trans_count_bin': {'algorithm': 'chi-square',\n",
       "  'pvalue': np.float64(0.0),\n",
       "  'statistic': inf,\n",
       "  'thresholds': {'NO_DRIFT': (0.15, 1),\n",
       "   'POSSIBLE_DRIFT': (0.05, 0.15),\n",
       "   'DRIFT': (0, 0.05)},\n",
       "  'drift_category': 'DRIFT'}}"
      ]
     },
     "execution_count": 88,
     "metadata": {},
     "output_type": "execute_result"
    }
   ],
   "source": [
    "from whylogs.viz.drift.column_drift_algorithms import calculate_drift_scores\n",
    "\n",
    "scores = calculate_drift_scores(target_view=target, reference_view=ref, with_thresholds = True)\n",
    "scores"
   ]
  },
  {
   "cell_type": "code",
   "execution_count": 81,
   "metadata": {},
   "outputs": [
    {
     "data": {
      "text/plain": [
       "Index(['gender', 'marital', 'generation', 'own_house', 'education', 'job',\n",
       "       'inactive', 'income', 'avg_bal', 'trans_count', 'credit_trans_amount',\n",
       "       'recency_score', 'avg_bal_bins', 'trans_count_bin'],\n",
       "      dtype='object')"
      ]
     },
     "execution_count": 81,
     "metadata": {},
     "output_type": "execute_result"
    }
   ],
   "source": [
    "df.columns"
   ]
  },
  {
   "cell_type": "code",
   "execution_count": null,
   "metadata": {},
   "outputs": [],
   "source": []
  },
  {
   "cell_type": "code",
   "execution_count": 64,
   "metadata": {},
   "outputs": [
    {
     "data": {
      "text/html": [
       "<style type=\"text/css\">\n",
       "</style>\n",
       "<table id=\"T_ea75f\">\n",
       "  <thead>\n",
       "    <tr>\n",
       "      <th class=\"blank level0\" >&nbsp;</th>\n",
       "      <th id=\"T_ea75f_level0_col0\" class=\"col_heading level0 col0\" >marital</th>\n",
       "      <th id=\"T_ea75f_level0_col1\" class=\"col_heading level0 col1\" >income</th>\n",
       "      <th id=\"T_ea75f_level0_col2\" class=\"col_heading level0 col2\" >avg_bal</th>\n",
       "      <th id=\"T_ea75f_level0_col3\" class=\"col_heading level0 col3\" >trans_count</th>\n",
       "      <th id=\"T_ea75f_level0_col4\" class=\"col_heading level0 col4\" >credit_trans_amount</th>\n",
       "      <th id=\"T_ea75f_level0_col5\" class=\"col_heading level0 col5\" >recency_score</th>\n",
       "    </tr>\n",
       "  </thead>\n",
       "  <tbody>\n",
       "    <tr>\n",
       "      <th id=\"T_ea75f_level0_row0\" class=\"row_heading level0 row0\" >count</th>\n",
       "      <td id=\"T_ea75f_row0_col0\" class=\"data row0 col0\" >26135.00</td>\n",
       "      <td id=\"T_ea75f_row0_col1\" class=\"data row0 col1\" >26135.00</td>\n",
       "      <td id=\"T_ea75f_row0_col2\" class=\"data row0 col2\" >26135.00</td>\n",
       "      <td id=\"T_ea75f_row0_col3\" class=\"data row0 col3\" >26135.00</td>\n",
       "      <td id=\"T_ea75f_row0_col4\" class=\"data row0 col4\" >26135.00</td>\n",
       "      <td id=\"T_ea75f_row0_col5\" class=\"data row0 col5\" >26135.00</td>\n",
       "    </tr>\n",
       "    <tr>\n",
       "      <th id=\"T_ea75f_level0_row1\" class=\"row_heading level0 row1\" >mean</th>\n",
       "      <td id=\"T_ea75f_row1_col0\" class=\"data row1 col0\" >0.75</td>\n",
       "      <td id=\"T_ea75f_row1_col1\" class=\"data row1 col1\" >1.58</td>\n",
       "      <td id=\"T_ea75f_row1_col2\" class=\"data row1 col2\" >7985220.49</td>\n",
       "      <td id=\"T_ea75f_row1_col3\" class=\"data row1 col3\" >93.98</td>\n",
       "      <td id=\"T_ea75f_row1_col4\" class=\"data row1 col4\" >-97043250.68</td>\n",
       "      <td id=\"T_ea75f_row1_col5\" class=\"data row1 col5\" >4.44</td>\n",
       "    </tr>\n",
       "    <tr>\n",
       "      <th id=\"T_ea75f_level0_row2\" class=\"row_heading level0 row2\" >std</th>\n",
       "      <td id=\"T_ea75f_row2_col0\" class=\"data row2 col0\" >0.44</td>\n",
       "      <td id=\"T_ea75f_row2_col1\" class=\"data row2 col1\" >1.47</td>\n",
       "      <td id=\"T_ea75f_row2_col2\" class=\"data row2 col2\" >111974338.28</td>\n",
       "      <td id=\"T_ea75f_row2_col3\" class=\"data row2 col3\" >570.54</td>\n",
       "      <td id=\"T_ea75f_row2_col4\" class=\"data row2 col4\" >1701026020.69</td>\n",
       "      <td id=\"T_ea75f_row2_col5\" class=\"data row2 col5\" >1.23</td>\n",
       "    </tr>\n",
       "    <tr>\n",
       "      <th id=\"T_ea75f_level0_row3\" class=\"row_heading level0 row3\" >min</th>\n",
       "      <td id=\"T_ea75f_row3_col0\" class=\"data row3 col0\" >0.00</td>\n",
       "      <td id=\"T_ea75f_row3_col1\" class=\"data row3 col1\" >0.00</td>\n",
       "      <td id=\"T_ea75f_row3_col2\" class=\"data row3 col2\" >-4426324104.09</td>\n",
       "      <td id=\"T_ea75f_row3_col3\" class=\"data row3 col3\" >1.00</td>\n",
       "      <td id=\"T_ea75f_row3_col4\" class=\"data row3 col4\" >-232513447474.00</td>\n",
       "      <td id=\"T_ea75f_row3_col5\" class=\"data row3 col5\" >1.00</td>\n",
       "    </tr>\n",
       "    <tr>\n",
       "      <th id=\"T_ea75f_level0_row4\" class=\"row_heading level0 row4\" >25%</th>\n",
       "      <td id=\"T_ea75f_row4_col0\" class=\"data row4 col0\" >0.00</td>\n",
       "      <td id=\"T_ea75f_row4_col1\" class=\"data row4 col1\" >1.00</td>\n",
       "      <td id=\"T_ea75f_row4_col2\" class=\"data row4 col2\" >24062.31</td>\n",
       "      <td id=\"T_ea75f_row4_col3\" class=\"data row4 col3\" >4.00</td>\n",
       "      <td id=\"T_ea75f_row4_col4\" class=\"data row4 col4\" >-26665795.50</td>\n",
       "      <td id=\"T_ea75f_row4_col5\" class=\"data row4 col5\" >5.00</td>\n",
       "    </tr>\n",
       "    <tr>\n",
       "      <th id=\"T_ea75f_level0_row5\" class=\"row_heading level0 row5\" >50%</th>\n",
       "      <td id=\"T_ea75f_row5_col0\" class=\"data row5 col0\" >1.00</td>\n",
       "      <td id=\"T_ea75f_row5_col1\" class=\"data row5 col1\" >1.00</td>\n",
       "      <td id=\"T_ea75f_row5_col2\" class=\"data row5 col2\" >139014.61</td>\n",
       "      <td id=\"T_ea75f_row5_col3\" class=\"data row5 col3\" >7.00</td>\n",
       "      <td id=\"T_ea75f_row5_col4\" class=\"data row5 col4\" >-9994695.00</td>\n",
       "      <td id=\"T_ea75f_row5_col5\" class=\"data row5 col5\" >5.00</td>\n",
       "    </tr>\n",
       "    <tr>\n",
       "      <th id=\"T_ea75f_level0_row6\" class=\"row_heading level0 row6\" >75%</th>\n",
       "      <td id=\"T_ea75f_row6_col0\" class=\"data row6 col0\" >1.00</td>\n",
       "      <td id=\"T_ea75f_row6_col1\" class=\"data row6 col1\" >1.00</td>\n",
       "      <td id=\"T_ea75f_row6_col2\" class=\"data row6 col2\" >513676.83</td>\n",
       "      <td id=\"T_ea75f_row6_col3\" class=\"data row6 col3\" >11.00</td>\n",
       "      <td id=\"T_ea75f_row6_col4\" class=\"data row6 col4\" >-4943314.00</td>\n",
       "      <td id=\"T_ea75f_row6_col5\" class=\"data row6 col5\" >5.00</td>\n",
       "    </tr>\n",
       "    <tr>\n",
       "      <th id=\"T_ea75f_level0_row7\" class=\"row_heading level0 row7\" >max</th>\n",
       "      <td id=\"T_ea75f_row7_col0\" class=\"data row7 col0\" >1.00</td>\n",
       "      <td id=\"T_ea75f_row7_col1\" class=\"data row7 col1\" >6.00</td>\n",
       "      <td id=\"T_ea75f_row7_col2\" class=\"data row7 col2\" >13178211355.55</td>\n",
       "      <td id=\"T_ea75f_row7_col3\" class=\"data row7 col3\" >26185.00</td>\n",
       "      <td id=\"T_ea75f_row7_col4\" class=\"data row7 col4\" >0.00</td>\n",
       "      <td id=\"T_ea75f_row7_col5\" class=\"data row7 col5\" >5.00</td>\n",
       "    </tr>\n",
       "  </tbody>\n",
       "</table>\n"
      ],
      "text/plain": [
       "<pandas.io.formats.style.Styler at 0x7f55176ffb50>"
      ]
     },
     "execution_count": 64,
     "metadata": {},
     "output_type": "execute_result"
    }
   ],
   "source": [
    "# Get descriptive statistics\n",
    "summary_stats = df1.describe()\n",
    "\n",
    "# Format the columns to display in standard decimal format with 2 decimal places\n",
    "formatted_stats = summary_stats.style.format(\"{:.2f}\")\n",
    "\n",
    "# Display the formatted statistics\n",
    "formatted_stats"
   ]
  },
  {
   "cell_type": "code",
   "execution_count": 65,
   "metadata": {},
   "outputs": [
    {
     "data": {
      "text/html": [
       "<style type=\"text/css\">\n",
       "</style>\n",
       "<table id=\"T_b71ea\">\n",
       "  <thead>\n",
       "    <tr>\n",
       "      <th class=\"blank level0\" >&nbsp;</th>\n",
       "      <th id=\"T_b71ea_level0_col0\" class=\"col_heading level0 col0\" >marital</th>\n",
       "      <th id=\"T_b71ea_level0_col1\" class=\"col_heading level0 col1\" >income</th>\n",
       "      <th id=\"T_b71ea_level0_col2\" class=\"col_heading level0 col2\" >avg_bal</th>\n",
       "      <th id=\"T_b71ea_level0_col3\" class=\"col_heading level0 col3\" >trans_count</th>\n",
       "      <th id=\"T_b71ea_level0_col4\" class=\"col_heading level0 col4\" >credit_trans_amount</th>\n",
       "      <th id=\"T_b71ea_level0_col5\" class=\"col_heading level0 col5\" >recency_score</th>\n",
       "    </tr>\n",
       "  </thead>\n",
       "  <tbody>\n",
       "    <tr>\n",
       "      <th id=\"T_b71ea_level0_row0\" class=\"row_heading level0 row0\" >count</th>\n",
       "      <td id=\"T_b71ea_row0_col0\" class=\"data row0 col0\" >26135.00</td>\n",
       "      <td id=\"T_b71ea_row0_col1\" class=\"data row0 col1\" >26135.00</td>\n",
       "      <td id=\"T_b71ea_row0_col2\" class=\"data row0 col2\" >26135.00</td>\n",
       "      <td id=\"T_b71ea_row0_col3\" class=\"data row0 col3\" >26135.00</td>\n",
       "      <td id=\"T_b71ea_row0_col4\" class=\"data row0 col4\" >26135.00</td>\n",
       "      <td id=\"T_b71ea_row0_col5\" class=\"data row0 col5\" >26135.00</td>\n",
       "    </tr>\n",
       "    <tr>\n",
       "      <th id=\"T_b71ea_level0_row1\" class=\"row_heading level0 row1\" >mean</th>\n",
       "      <td id=\"T_b71ea_row1_col0\" class=\"data row1 col0\" >0.74</td>\n",
       "      <td id=\"T_b71ea_row1_col1\" class=\"data row1 col1\" >1.57</td>\n",
       "      <td id=\"T_b71ea_row1_col2\" class=\"data row1 col2\" >8072799.30</td>\n",
       "      <td id=\"T_b71ea_row1_col3\" class=\"data row1 col3\" >214.41</td>\n",
       "      <td id=\"T_b71ea_row1_col4\" class=\"data row1 col4\" >-107705148.48</td>\n",
       "      <td id=\"T_b71ea_row1_col5\" class=\"data row1 col5\" >4.43</td>\n",
       "    </tr>\n",
       "    <tr>\n",
       "      <th id=\"T_b71ea_level0_row2\" class=\"row_heading level0 row2\" >std</th>\n",
       "      <td id=\"T_b71ea_row2_col0\" class=\"data row2 col0\" >0.44</td>\n",
       "      <td id=\"T_b71ea_row2_col1\" class=\"data row2 col1\" >1.45</td>\n",
       "      <td id=\"T_b71ea_row2_col2\" class=\"data row2 col2\" >67641656.15</td>\n",
       "      <td id=\"T_b71ea_row2_col3\" class=\"data row2 col3\" >14358.89</td>\n",
       "      <td id=\"T_b71ea_row2_col4\" class=\"data row2 col4\" >3057975164.93</td>\n",
       "      <td id=\"T_b71ea_row2_col5\" class=\"data row2 col5\" >1.24</td>\n",
       "    </tr>\n",
       "    <tr>\n",
       "      <th id=\"T_b71ea_level0_row3\" class=\"row_heading level0 row3\" >min</th>\n",
       "      <td id=\"T_b71ea_row3_col0\" class=\"data row3 col0\" >0.00</td>\n",
       "      <td id=\"T_b71ea_row3_col1\" class=\"data row3 col1\" >0.00</td>\n",
       "      <td id=\"T_b71ea_row3_col2\" class=\"data row3 col2\" >-2074429647.72</td>\n",
       "      <td id=\"T_b71ea_row3_col3\" class=\"data row3 col3\" >1.00</td>\n",
       "      <td id=\"T_b71ea_row3_col4\" class=\"data row3 col4\" >-438877675264.00</td>\n",
       "      <td id=\"T_b71ea_row3_col5\" class=\"data row3 col5\" >1.00</td>\n",
       "    </tr>\n",
       "    <tr>\n",
       "      <th id=\"T_b71ea_level0_row4\" class=\"row_heading level0 row4\" >25%</th>\n",
       "      <td id=\"T_b71ea_row4_col0\" class=\"data row4 col0\" >0.00</td>\n",
       "      <td id=\"T_b71ea_row4_col1\" class=\"data row4 col1\" >1.00</td>\n",
       "      <td id=\"T_b71ea_row4_col2\" class=\"data row4 col2\" >22712.28</td>\n",
       "      <td id=\"T_b71ea_row4_col3\" class=\"data row4 col3\" >4.00</td>\n",
       "      <td id=\"T_b71ea_row4_col4\" class=\"data row4 col4\" >-26189047.50</td>\n",
       "      <td id=\"T_b71ea_row4_col5\" class=\"data row4 col5\" >5.00</td>\n",
       "    </tr>\n",
       "    <tr>\n",
       "      <th id=\"T_b71ea_level0_row5\" class=\"row_heading level0 row5\" >50%</th>\n",
       "      <td id=\"T_b71ea_row5_col0\" class=\"data row5 col0\" >1.00</td>\n",
       "      <td id=\"T_b71ea_row5_col1\" class=\"data row5 col1\" >1.00</td>\n",
       "      <td id=\"T_b71ea_row5_col2\" class=\"data row5 col2\" >140848.04</td>\n",
       "      <td id=\"T_b71ea_row5_col3\" class=\"data row5 col3\" >7.00</td>\n",
       "      <td id=\"T_b71ea_row5_col4\" class=\"data row5 col4\" >-9983600.00</td>\n",
       "      <td id=\"T_b71ea_row5_col5\" class=\"data row5 col5\" >5.00</td>\n",
       "    </tr>\n",
       "    <tr>\n",
       "      <th id=\"T_b71ea_level0_row6\" class=\"row_heading level0 row6\" >75%</th>\n",
       "      <td id=\"T_b71ea_row6_col0\" class=\"data row6 col0\" >1.00</td>\n",
       "      <td id=\"T_b71ea_row6_col1\" class=\"data row6 col1\" >1.00</td>\n",
       "      <td id=\"T_b71ea_row6_col2\" class=\"data row6 col2\" >511548.21</td>\n",
       "      <td id=\"T_b71ea_row6_col3\" class=\"data row6 col3\" >11.00</td>\n",
       "      <td id=\"T_b71ea_row6_col4\" class=\"data row6 col4\" >-4858388.00</td>\n",
       "      <td id=\"T_b71ea_row6_col5\" class=\"data row6 col5\" >5.00</td>\n",
       "    </tr>\n",
       "    <tr>\n",
       "      <th id=\"T_b71ea_level0_row7\" class=\"row_heading level0 row7\" >max</th>\n",
       "      <td id=\"T_b71ea_row7_col0\" class=\"data row7 col0\" >1.00</td>\n",
       "      <td id=\"T_b71ea_row7_col1\" class=\"data row7 col1\" >6.00</td>\n",
       "      <td id=\"T_b71ea_row7_col2\" class=\"data row7 col2\" >3260283217.11</td>\n",
       "      <td id=\"T_b71ea_row7_col3\" class=\"data row7 col3\" >2163385.00</td>\n",
       "      <td id=\"T_b71ea_row7_col4\" class=\"data row7 col4\" >0.00</td>\n",
       "      <td id=\"T_b71ea_row7_col5\" class=\"data row7 col5\" >5.00</td>\n",
       "    </tr>\n",
       "  </tbody>\n",
       "</table>\n"
      ],
      "text/plain": [
       "<pandas.io.formats.style.Styler at 0x7f551bbebf70>"
      ]
     },
     "execution_count": 65,
     "metadata": {},
     "output_type": "execute_result"
    }
   ],
   "source": [
    "# Get descriptive statistics\n",
    "summary_stats = df2.describe()\n",
    "\n",
    "# Format the columns to display in standard decimal format with 2 decimal places\n",
    "formatted_stats = summary_stats.style.format(\"{:.2f}\")\n",
    "\n",
    "# Display the formatted statistics\n",
    "formatted_stats"
   ]
  },
  {
   "cell_type": "code",
   "execution_count": 66,
   "metadata": {},
   "outputs": [],
   "source": [
    "def defineDriftCondition(start : int, end : int, df : pd.DataFrame) -> int:\n",
    "    df_list = df['trans_count'].tolist()\n",
    "    drift = []\n",
    "    for i in df_list:\n",
    "        if df_list[i] > start and df_list[i] < end:\n",
    "            drift.append(1)\n",
    "        else:\n",
    "            drift.append(0)\n",
    "    return sum(drift)\n",
    "\n",
    "def defineDriftCondition2(start: int, end: int, df: pd.DataFrame) -> int:\n",
    "    drift = ((df['trans_count'] < start)|(df['trans_count'] > end)).sum()\n",
    "    return (round(drift/len(df)*100))\n"
   ]
  },
  {
   "cell_type": "code",
   "execution_count": 67,
   "metadata": {},
   "outputs": [
    {
     "name": "stdout",
     "output_type": "stream",
     "text": [
      "max : 26185, min : 1\n"
     ]
    },
    {
     "data": {
      "text/plain": [
       "0"
      ]
     },
     "execution_count": 67,
     "metadata": {},
     "output_type": "execute_result"
    }
   ],
   "source": [
    "max = df1['trans_count'].max()\n",
    "min = df1['trans_count'].min()\n",
    "print(f\"max : {max}, min : {min}\")\n",
    "def defineDriftCondition2(start: int, end: int, df: pd.DataFrame) -> int:\n",
    "    drift = ((df['trans_count'] < start)|(df['trans_count'] > end)).sum()\n",
    "    return (round(drift/len(df)*100))\n",
    "x = defineDriftCondition2(1, max, df2)\n",
    "x\n"
   ]
  },
  {
   "cell_type": "code",
   "execution_count": null,
   "metadata": {},
   "outputs": [],
   "source": []
  }
 ],
 "metadata": {
  "kernelspec": {
   "display_name": "myenv",
   "language": "python",
   "name": "python3"
  },
  "language_info": {
   "codemirror_mode": {
    "name": "ipython",
    "version": 3
   },
   "file_extension": ".py",
   "mimetype": "text/x-python",
   "name": "python",
   "nbconvert_exporter": "python",
   "pygments_lexer": "ipython3",
   "version": "3.10.12"
  }
 },
 "nbformat": 4,
 "nbformat_minor": 2
}
